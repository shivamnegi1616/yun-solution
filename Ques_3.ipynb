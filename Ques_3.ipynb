{
  "nbformat": 4,
  "nbformat_minor": 0,
  "metadata": {
    "colab": {
      "provenance": []
    },
    "kernelspec": {
      "name": "python3",
      "display_name": "Python 3"
    },
    "language_info": {
      "name": "python"
    }
  },
  "cells": [
    {
      "cell_type": "code",
      "execution_count": null,
      "metadata": {
        "id": "bvQCLyglQji5"
      },
      "outputs": [],
      "source": [
        "import torch\n",
        "import pandas as pd\n",
        "\n",
        "# Sample DataFrame\n",
        "data = {\n",
        "    \"x\": [1.0, 1.2, 0.8, 3.5, 3.6, 3.8, 10.0],\n",
        "    \"y\": [1.0, 1.1, 0.9, 3.5, 3.6, 3.7, 10.0],\n",
        "}\n",
        "df = pd.DataFrame(data)\n",
        "print(\"Original DataFrame:\")\n",
        "print(df)\n",
        "\n",
        "\n",
        "points = torch.tensor(df.values, dtype=torch.float32)  # Shape: (N, 2)\n",
        "\n",
        "\n",
        "distances = torch.cdist(points, points, p=2)  # Shape: (N, N)\n",
        "\n",
        "threshold = 0.5\n",
        "\n",
        "adjacency_matrix = distances <= threshold  # Shape: (N, N)\n",
        "\n",
        "visited = torch.zeros(adjacency_matrix.size(0), dtype=torch.bool)\n",
        "groups = []\n",
        "\n",
        "for i in range(adjacency_matrix.size(0)):\n",
        "    if not visited[i]:\n",
        "        # Find all connected points\n",
        "        group = adjacency_matrix[i] | adjacency_matrix[visited]\n",
        "        group_points = torch.where(group.any(dim=0))[0]\n",
        "        groups.append(group_points.tolist())\n",
        "        visited[group_points] = True\n",
        "\n",
        "\n",
        "print(\"\\nGroups of points:\")\n",
        "for group in groups:\n",
        "    group_points = df.iloc[group]\n",
        "    print(group_points)\n"
      ]
    }
  ]
}