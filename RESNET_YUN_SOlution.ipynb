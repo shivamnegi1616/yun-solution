{
  "nbformat": 4,
  "nbformat_minor": 0,
  "metadata": {
    "colab": {
      "provenance": []
    },
    "kernelspec": {
      "name": "python3",
      "display_name": "Python 3"
    },
    "language_info": {
      "name": "python"
    }
  },
  "cells": [
    {
      "cell_type": "code",
      "source": [
        "import os\n",
        "import torch\n",
        "import torch.nn as nn\n",
        "import torch.optim as optim\n",
        "from torchvision import models, transforms, datasets\n",
        "from torch.utils.data import DataLoader\n"
      ],
      "metadata": {
        "id": "lXkIkzKlOTfn"
      },
      "execution_count": null,
      "outputs": []
    },
    {
      "cell_type": "code",
      "execution_count": null,
      "metadata": {
        "id": "1Kfb10s7OI6E"
      },
      "outputs": [],
      "source": [
        "\n",
        "\n",
        "# Check for GPU\n",
        "device = torch.device(\"cuda\" if torch.cuda.is_available() else \"cpu\")\n",
        "print(f\"Using device: {device}\")\n",
        "\n",
        "# train_dir = os.path.join(data_dir, \"train\")\n",
        "# val_dir = os.path.join(data_dir, \"val\")\n",
        "\n",
        "# Data transformations\n",
        "data_transforms = {\n",
        "    \"train\": transforms.Compose([\n",
        "        transforms.Resize((224, 224)),\n",
        "        transforms.RandomHorizontalFlip(),\n",
        "        transforms.ToTensor(),\n",
        "        transforms.Normalize([0.485, 0.456, 0.406], [0.229, 0.224, 0.225])  # ImageNet normalization\n",
        "    ]),\n",
        "    \"val\": transforms.Compose([\n",
        "        transforms.Resize((224, 224)),\n",
        "        transforms.ToTensor(),\n",
        "        transforms.Normalize([0.485, 0.456, 0.406], [0.229, 0.224, 0.225])\n",
        "    ]),\n",
        "}\n",
        "\n",
        "# Load datasets\n",
        "datasets = {\n",
        "    \"train\": datasets.ImageFolder(train_dir, transform=data_transforms[\"train\"]),\n",
        "    \"val\": datasets.ImageFolder(val_dir, transform=data_transforms[\"val\"]),\n",
        "}\n",
        "\n",
        "# Create dataloaders\n",
        "dataloaders = {\n",
        "    \"train\": DataLoader(datasets[\"train\"], batch_size=32, shuffle=True, num_workers=4),\n",
        "    \"val\": DataLoader(datasets[\"val\"], batch_size=32, shuffle=False, num_workers=4),\n",
        "}\n",
        "\n",
        "# Get class names\n",
        "class_names = datasets[\"train\"].classes\n",
        "num_classes = len(class_names)\n",
        "print(f\"Classes: {class_names}\")\n",
        "\n",
        "\n",
        "model = models.resnet18(pretrained=True)\n",
        "\n",
        "\n",
        "num_features = model.fc.in_features\n",
        "model.fc = nn.Linear(num_features, num_classes)\n",
        "\n",
        "\n",
        "model = model.to(device)\n",
        "\n",
        "\n",
        "criterion = nn.CrossEntropyLoss()\n",
        "optimizer = optim.Adam(model.parameters(), lr=0.001)\n",
        "\n",
        "\n",
        "scheduler = optim.lr_scheduler.StepLR(optimizer, step_size=7, gamma=0.1)"
      ]
    },
    {
      "cell_type": "code",
      "source": [
        "def train_model(model, criterion, optimizer, scheduler, num_epochs=10):\n",
        "    best_model_weights = model.state_dict()\n",
        "    best_accuracy = 0.0\n",
        "\n",
        "    for epoch in range(num_epochs):\n",
        "        print(f\"Epoch {epoch + 1}/{num_epochs}\")\n",
        "        print(\"-\" * 20)\n",
        "\n",
        "        for phase in [\"train\", \"val\"]:\n",
        "            if phase == \"train\":\n",
        "                model.train()  # Set to training mode\n",
        "            else:\n",
        "                model.eval()  # Set to evaluation mode\n",
        "\n",
        "            running_loss = 0.0\n",
        "            running_corrects = 0\n",
        "\n",
        "            # Iterate over data\n",
        "            for inputs, labels in dataloaders[phase]:\n",
        "                inputs, labels = inputs.to(device), labels.to(device)\n",
        "\n",
        "                # Zero the parameter gradients\n",
        "                optimizer.zero_grad()\n",
        "\n",
        "                # Forward pass\n",
        "                with torch.set_grad_enabled(phase == \"train\"):\n",
        "                    outputs = model(inputs)\n",
        "                    _, preds = torch.max(outputs, 1)\n",
        "                    loss = criterion(outputs, labels)\n",
        "\n",
        "                    # Backward pass and optimize during training\n",
        "                    if phase == \"train\":\n",
        "                        loss.backward()\n",
        "                        optimizer.step()\n",
        "\n",
        "                # Statistics\n",
        "                running_loss += loss.item() * inputs.size(0)\n",
        "                running_corrects += torch.sum(preds == labels.data)\n",
        "\n",
        "            # Adjust learning rate\n",
        "            if phase == \"train\":\n",
        "                scheduler.step()\n",
        "\n",
        "            epoch_loss = running_loss / len(datasets[phase])\n",
        "            epoch_acc = running_corrects.double() / len(datasets[phase])\n",
        "\n",
        "            print(f\"{phase} Loss: {epoch_loss:.4f} Acc: {epoch_acc:.4f}\")\n",
        "\n",
        "            # Save the best model\n",
        "            if phase == \"val\" and epoch_acc > best_accuracy:\n",
        "                best_accuracy = epoch_acc\n",
        "                best_model_weights = model.state_dict()\n",
        "\n",
        "    print(f\"Best Validation Accuracy: {best_accuracy:.4f}\")\n",
        "    # Load best weights\n",
        "    model.load_state_dict(best_model_weights)\n",
        "    return model"
      ],
      "metadata": {
        "id": "50Q4_jZEORjO"
      },
      "execution_count": null,
      "outputs": []
    },
    {
      "cell_type": "code",
      "source": [
        "model = train_model(model, criterion, optimizer, scheduler, num_epochs=10)"
      ],
      "metadata": {
        "id": "kBH177hgORgW"
      },
      "execution_count": null,
      "outputs": []
    }
  ]
}